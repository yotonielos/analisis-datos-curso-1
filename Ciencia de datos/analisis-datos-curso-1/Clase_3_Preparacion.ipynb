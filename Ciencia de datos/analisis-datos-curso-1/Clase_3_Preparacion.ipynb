{
 "cells": [
  {
   "cell_type": "markdown",
   "id": "3b42aa99-7f25-462a-977b-5301df00354e",
   "metadata": {},
   "source": [
    "# Preparación de datos\n",
    "1. Entender los diferentes tipos de datos\n",
    "2. Identificar datos duplicados o nulos\n",
    "3. Realizar la interpretación del tipo de datos "
   ]
  },
  {
   "cell_type": "markdown",
   "id": "f6de3f9d-e896-4e84-9b8a-31a9c177f983",
   "metadata": {},
   "source": [
    "# Importación de librerias y archivos "
   ]
  },
  {
   "cell_type": "code",
   "execution_count": 1,
   "id": "28740437-e768-4370-8833-263cf64aa347",
   "metadata": {},
   "outputs": [],
   "source": [
    "import pandas as pd\n",
    "import os \n",
    "#libreria para el manejo de datos\n",
    "from datetime import date"
   ]
  },
  {
   "cell_type": "code",
   "execution_count": 2,
   "id": "84c2b61c-9dd2-46db-b1e9-198d72afcdbd",
   "metadata": {},
   "outputs": [
    {
     "data": {
      "text/html": [
       "<div>\n",
       "<style scoped>\n",
       "    .dataframe tbody tr th:only-of-type {\n",
       "        vertical-align: middle;\n",
       "    }\n",
       "\n",
       "    .dataframe tbody tr th {\n",
       "        vertical-align: top;\n",
       "    }\n",
       "\n",
       "    .dataframe thead th {\n",
       "        text-align: right;\n",
       "    }\n",
       "</style>\n",
       "<table border=\"1\" class=\"dataframe\">\n",
       "  <thead>\n",
       "    <tr style=\"text-align: right;\">\n",
       "      <th></th>\n",
       "      <th>orden_id</th>\n",
       "      <th>order_item_id</th>\n",
       "      <th>producto_id</th>\n",
       "      <th>vendedor_id</th>\n",
       "      <th>fecha_envio_limite</th>\n",
       "      <th>precio</th>\n",
       "      <th>valor_flete</th>\n",
       "      <th>codigo_postal_vendedor</th>\n",
       "      <th>ciudad_vendedor</th>\n",
       "      <th>departamento_vendedor</th>\n",
       "      <th>nombre_categoria_producto</th>\n",
       "      <th>longitud_nombre_producto</th>\n",
       "      <th>longitud_descripcion_producto</th>\n",
       "      <th>cantidad_fotos_producto</th>\n",
       "      <th>peso_g_producto</th>\n",
       "      <th>longitud_cm_producto</th>\n",
       "      <th>altura_cm_producto</th>\n",
       "      <th>ancho_cm_producto</th>\n",
       "    </tr>\n",
       "  </thead>\n",
       "  <tbody>\n",
       "    <tr>\n",
       "      <th>0</th>\n",
       "      <td>107500PO59A</td>\n",
       "      <td>A</td>\n",
       "      <td>PO59</td>\n",
       "      <td>VE5389</td>\n",
       "      <td>07/04/2018 18:12</td>\n",
       "      <td>271.86</td>\n",
       "      <td>30.72</td>\n",
       "      <td>52435</td>\n",
       "      <td>Mallama</td>\n",
       "      <td>Nariño</td>\n",
       "      <td>Productos ecoamigables</td>\n",
       "      <td>6</td>\n",
       "      <td>7</td>\n",
       "      <td>27</td>\n",
       "      <td>2486</td>\n",
       "      <td>17</td>\n",
       "      <td>11</td>\n",
       "      <td>14</td>\n",
       "    </tr>\n",
       "    <tr>\n",
       "      <th>1</th>\n",
       "      <td>37493PS22B</td>\n",
       "      <td>B</td>\n",
       "      <td>PS22</td>\n",
       "      <td>VE1558</td>\n",
       "      <td>20/10/2017 09:07</td>\n",
       "      <td>115.73</td>\n",
       "      <td>4.68</td>\n",
       "      <td>52203</td>\n",
       "      <td>Colon</td>\n",
       "      <td>Nariño</td>\n",
       "      <td>Carnicería</td>\n",
       "      <td>10</td>\n",
       "      <td>31</td>\n",
       "      <td>20</td>\n",
       "      <td>256</td>\n",
       "      <td>43</td>\n",
       "      <td>2</td>\n",
       "      <td>21</td>\n",
       "    </tr>\n",
       "    <tr>\n",
       "      <th>2</th>\n",
       "      <td>28050PK20B</td>\n",
       "      <td>B</td>\n",
       "      <td>PK20</td>\n",
       "      <td>VE9159</td>\n",
       "      <td>17/08/2017 08:15</td>\n",
       "      <td>432.99</td>\n",
       "      <td>82.70</td>\n",
       "      <td>66001</td>\n",
       "      <td>Pereira</td>\n",
       "      <td>Risaralda</td>\n",
       "      <td>Deportes</td>\n",
       "      <td>25</td>\n",
       "      <td>5</td>\n",
       "      <td>4</td>\n",
       "      <td>5270</td>\n",
       "      <td>9</td>\n",
       "      <td>27</td>\n",
       "      <td>29</td>\n",
       "    </tr>\n",
       "    <tr>\n",
       "      <th>3</th>\n",
       "      <td>52187PA10A</td>\n",
       "      <td>A</td>\n",
       "      <td>PA10</td>\n",
       "      <td>VE3159</td>\n",
       "      <td>23/09/2017 23:27</td>\n",
       "      <td>108.38</td>\n",
       "      <td>35.39</td>\n",
       "      <td>52435</td>\n",
       "      <td>Mallama</td>\n",
       "      <td>Nariño</td>\n",
       "      <td>Electrodomésticos</td>\n",
       "      <td>10</td>\n",
       "      <td>1</td>\n",
       "      <td>6</td>\n",
       "      <td>734</td>\n",
       "      <td>46</td>\n",
       "      <td>48</td>\n",
       "      <td>22</td>\n",
       "    </tr>\n",
       "    <tr>\n",
       "      <th>4</th>\n",
       "      <td>84639PR12A</td>\n",
       "      <td>A</td>\n",
       "      <td>PR12</td>\n",
       "      <td>VE5090</td>\n",
       "      <td>07/01/2018 11:50</td>\n",
       "      <td>51.50</td>\n",
       "      <td>11.10</td>\n",
       "      <td>73001</td>\n",
       "      <td>Ibague</td>\n",
       "      <td>Tolima</td>\n",
       "      <td>Frutas y verduras</td>\n",
       "      <td>23</td>\n",
       "      <td>16</td>\n",
       "      <td>35</td>\n",
       "      <td>884</td>\n",
       "      <td>45</td>\n",
       "      <td>26</td>\n",
       "      <td>18</td>\n",
       "    </tr>\n",
       "  </tbody>\n",
       "</table>\n",
       "</div>"
      ],
      "text/plain": [
       "      orden_id order_item_id producto_id vendedor_id fecha_envio_limite  \\\n",
       "0  107500PO59A             A        PO59      VE5389   07/04/2018 18:12   \n",
       "1   37493PS22B             B        PS22      VE1558   20/10/2017 09:07   \n",
       "2   28050PK20B             B        PK20      VE9159   17/08/2017 08:15   \n",
       "3   52187PA10A             A        PA10      VE3159   23/09/2017 23:27   \n",
       "4   84639PR12A             A        PR12      VE5090   07/01/2018 11:50   \n",
       "\n",
       "   precio  valor_flete  codigo_postal_vendedor ciudad_vendedor  \\\n",
       "0  271.86        30.72                   52435         Mallama   \n",
       "1  115.73         4.68                   52203           Colon   \n",
       "2  432.99        82.70                   66001         Pereira   \n",
       "3  108.38        35.39                   52435         Mallama   \n",
       "4   51.50        11.10                   73001          Ibague   \n",
       "\n",
       "  departamento_vendedor nombre_categoria_producto  longitud_nombre_producto  \\\n",
       "0                Nariño    Productos ecoamigables                         6   \n",
       "1                Nariño                Carnicería                        10   \n",
       "2             Risaralda                  Deportes                        25   \n",
       "3                Nariño         Electrodomésticos                        10   \n",
       "4                Tolima         Frutas y verduras                        23   \n",
       "\n",
       "   longitud_descripcion_producto  cantidad_fotos_producto  peso_g_producto  \\\n",
       "0                              7                       27             2486   \n",
       "1                             31                       20              256   \n",
       "2                              5                        4             5270   \n",
       "3                              1                        6              734   \n",
       "4                             16                       35              884   \n",
       "\n",
       "   longitud_cm_producto  altura_cm_producto  ancho_cm_producto  \n",
       "0                    17                  11                 14  \n",
       "1                    43                   2                 21  \n",
       "2                     9                  27                 29  \n",
       "3                    46                  48                 22  \n",
       "4                    45                  26                 18  "
      ]
     },
     "execution_count": 2,
     "metadata": {},
     "output_type": "execute_result"
    }
   ],
   "source": [
    "#Cargar los datos en csv\n",
    "data=pd.read_csv(\"Archivo1_Datos.csv\",sep=\";\",encoding=\"latin-1\")\n",
    "data.head()"
   ]
  },
  {
   "cell_type": "markdown",
   "id": "a06021a0-802e-4455-bfe8-7fcb65a4f6fd",
   "metadata": {},
   "source": [
    "# Tipos de datos \n",
    "Nos dan el análisis de los tipos de datos  que estamos trabajando, estos pueden ser datos numéricos o categóricos\n",
    "1. Object es categórico\n",
    "2. float e int son numéricos"
   ]
  },
  {
   "cell_type": "code",
   "execution_count": 3,
   "id": "f65a95f7-6bf7-4759-bcf6-0f03deaa1a22",
   "metadata": {},
   "outputs": [
    {
     "data": {
      "text/plain": [
       "orden_id                          object\n",
       "order_item_id                     object\n",
       "producto_id                       object\n",
       "vendedor_id                       object\n",
       "fecha_envio_limite                object\n",
       "precio                           float64\n",
       "valor_flete                      float64\n",
       "codigo_postal_vendedor             int64\n",
       "ciudad_vendedor                   object\n",
       "departamento_vendedor             object\n",
       "nombre_categoria_producto         object\n",
       "longitud_nombre_producto           int64\n",
       "longitud_descripcion_producto      int64\n",
       "cantidad_fotos_producto            int64\n",
       "peso_g_producto                    int64\n",
       "longitud_cm_producto               int64\n",
       "altura_cm_producto                 int64\n",
       "ancho_cm_producto                  int64\n",
       "dtype: object"
      ]
     },
     "execution_count": 3,
     "metadata": {},
     "output_type": "execute_result"
    }
   ],
   "source": [
    "#revisar los tipos de datos del dataset\n",
    "data.dtypes"
   ]
  },
  {
   "cell_type": "code",
   "execution_count": 4,
   "id": "0c2d5534-39c0-40b8-b822-f2ed9d5ca18c",
   "metadata": {},
   "outputs": [
    {
     "data": {
      "text/plain": [
       "count    10134.000000\n",
       "mean     49991.684626\n",
       "std      22463.895340\n",
       "min       5001.000000\n",
       "25%      50001.000000\n",
       "50%      52323.000000\n",
       "75%      54003.000000\n",
       "max      99001.000000\n",
       "Name: codigo_postal_vendedor, dtype: float64"
      ]
     },
     "execution_count": 4,
     "metadata": {},
     "output_type": "execute_result"
    }
   ],
   "source": [
    "#En este caso el dato \"codigo_postal_vendedor\" es un dato categórico y se está tomando como un dato numérico\n",
    "data[\"codigo_postal_vendedor\"].describe()"
   ]
  },
  {
   "cell_type": "code",
   "execution_count": 5,
   "id": "1ba886a6-e82f-4158-a7a9-2bd8002cacef",
   "metadata": {},
   "outputs": [
    {
     "data": {
      "text/plain": [
       "count     10134\n",
       "unique       71\n",
       "top       52323\n",
       "freq        428\n",
       "Name: codigo_postal_vendedor, dtype: object"
      ]
     },
     "execution_count": 5,
     "metadata": {},
     "output_type": "execute_result"
    }
   ],
   "source": [
    "#Lo mejor es convertir en un dato categórico como se muestra a continuación \n",
    "data[\"codigo_postal_vendedor\"]=data[\"codigo_postal_vendedor\"].astype(str)\n",
    "data[\"codigo_postal_vendedor\"].describe()"
   ]
  },
  {
   "cell_type": "markdown",
   "id": "5c5cff28-1da6-4c61-a73d-9b5e5a08e62c",
   "metadata": {},
   "source": [
    "# DATOS NULOS \n",
    "Es la información que no se registra en puede generar un posible ruido "
   ]
  },
  {
   "cell_type": "code",
   "execution_count": 6,
   "id": "88261aaa-82cc-4707-99d5-484f390667d1",
   "metadata": {},
   "outputs": [
    {
     "data": {
      "text/plain": [
       "orden_id                         0\n",
       "order_item_id                    0\n",
       "producto_id                      0\n",
       "vendedor_id                      0\n",
       "fecha_envio_limite               0\n",
       "precio                           0\n",
       "valor_flete                      0\n",
       "codigo_postal_vendedor           0\n",
       "ciudad_vendedor                  0\n",
       "departamento_vendedor            0\n",
       "nombre_categoria_producto        0\n",
       "longitud_nombre_producto         0\n",
       "longitud_descripcion_producto    0\n",
       "cantidad_fotos_producto          0\n",
       "peso_g_producto                  0\n",
       "longitud_cm_producto             0\n",
       "altura_cm_producto               0\n",
       "ancho_cm_producto                0\n",
       "dtype: int64"
      ]
     },
     "execution_count": 6,
     "metadata": {},
     "output_type": "execute_result"
    }
   ],
   "source": [
    "##Función para encontrar datos nulos \n",
    "#Muestra Variable por variable la cantidad de datos nulos que contienen \n",
    "data.isna().sum()"
   ]
  },
  {
   "cell_type": "code",
   "execution_count": 7,
   "id": "e3e6f308-a1c0-4bd4-8db5-6abf5a510b64",
   "metadata": {},
   "outputs": [
    {
     "data": {
      "text/plain": [
       "(10134, 18)"
      ]
     },
     "execution_count": 7,
     "metadata": {},
     "output_type": "execute_result"
    }
   ],
   "source": [
    "data.shape #Conocer filas y columnas "
   ]
  },
  {
   "cell_type": "markdown",
   "id": "b4d3cd91-db5b-43d7-973a-10cbe00290b6",
   "metadata": {},
   "source": [
    "## Métodos para el manejo de datos faltantes\n",
    "1. Eliminación\n",
    "2. Regressión\n",
    "3. Técnica de imputación de datos\n",
    "4. Mantener los vacios "
   ]
  },
  {
   "cell_type": "code",
   "execution_count": 8,
   "id": "3700897e-f44a-407b-abaa-e643b61bb505",
   "metadata": {},
   "outputs": [
    {
     "data": {
      "text/plain": [
       "(10134, 18)"
      ]
     },
     "execution_count": 8,
     "metadata": {},
     "output_type": "execute_result"
    }
   ],
   "source": [
    "#Eliminación de los datos faltantes \n",
    "data=data.dropna()\n",
    "data.shape"
   ]
  },
  {
   "cell_type": "markdown",
   "id": "49fa0bbe-7cb8-4cf6-904f-28f9d583dfa5",
   "metadata": {},
   "source": [
    "# Identificar los datos duplicados \n"
   ]
  },
  {
   "cell_type": "code",
   "execution_count": 9,
   "id": "483d4f38-ccf2-472d-89bb-ed5d6e8fea75",
   "metadata": {},
   "outputs": [
    {
     "data": {
      "text/plain": [
       "0"
      ]
     },
     "execution_count": 9,
     "metadata": {},
     "output_type": "execute_result"
    }
   ],
   "source": [
    "data.duplicated().sum()"
   ]
  },
  {
   "cell_type": "code",
   "execution_count": 10,
   "id": "865c1f96-3d21-4cbf-bcc8-6771dc81cbf2",
   "metadata": {},
   "outputs": [
    {
     "data": {
      "text/html": [
       "<div>\n",
       "<style scoped>\n",
       "    .dataframe tbody tr th:only-of-type {\n",
       "        vertical-align: middle;\n",
       "    }\n",
       "\n",
       "    .dataframe tbody tr th {\n",
       "        vertical-align: top;\n",
       "    }\n",
       "\n",
       "    .dataframe thead th {\n",
       "        text-align: right;\n",
       "    }\n",
       "</style>\n",
       "<table border=\"1\" class=\"dataframe\">\n",
       "  <thead>\n",
       "    <tr style=\"text-align: right;\">\n",
       "      <th></th>\n",
       "      <th>orden_id</th>\n",
       "      <th>order_item_id</th>\n",
       "      <th>producto_id</th>\n",
       "      <th>vendedor_id</th>\n",
       "      <th>fecha_envio_limite</th>\n",
       "      <th>precio</th>\n",
       "      <th>valor_flete</th>\n",
       "      <th>codigo_postal_vendedor</th>\n",
       "      <th>ciudad_vendedor</th>\n",
       "      <th>departamento_vendedor</th>\n",
       "      <th>nombre_categoria_producto</th>\n",
       "      <th>longitud_nombre_producto</th>\n",
       "      <th>longitud_descripcion_producto</th>\n",
       "      <th>cantidad_fotos_producto</th>\n",
       "      <th>peso_g_producto</th>\n",
       "      <th>longitud_cm_producto</th>\n",
       "      <th>altura_cm_producto</th>\n",
       "      <th>ancho_cm_producto</th>\n",
       "    </tr>\n",
       "  </thead>\n",
       "  <tbody>\n",
       "    <tr>\n",
       "      <th>0</th>\n",
       "      <td>107500PO59A</td>\n",
       "      <td>A</td>\n",
       "      <td>PO59</td>\n",
       "      <td>VE5389</td>\n",
       "      <td>07/04/2018 18:12</td>\n",
       "      <td>271.86</td>\n",
       "      <td>30.72</td>\n",
       "      <td>52435</td>\n",
       "      <td>Mallama</td>\n",
       "      <td>Nariño</td>\n",
       "      <td>Productos ecoamigables</td>\n",
       "      <td>6</td>\n",
       "      <td>7</td>\n",
       "      <td>27</td>\n",
       "      <td>2486</td>\n",
       "      <td>17</td>\n",
       "      <td>11</td>\n",
       "      <td>14</td>\n",
       "    </tr>\n",
       "    <tr>\n",
       "      <th>1</th>\n",
       "      <td>37493PS22B</td>\n",
       "      <td>B</td>\n",
       "      <td>PS22</td>\n",
       "      <td>VE1558</td>\n",
       "      <td>20/10/2017 09:07</td>\n",
       "      <td>115.73</td>\n",
       "      <td>4.68</td>\n",
       "      <td>52203</td>\n",
       "      <td>Colon</td>\n",
       "      <td>Nariño</td>\n",
       "      <td>Carnicería</td>\n",
       "      <td>10</td>\n",
       "      <td>31</td>\n",
       "      <td>20</td>\n",
       "      <td>256</td>\n",
       "      <td>43</td>\n",
       "      <td>2</td>\n",
       "      <td>21</td>\n",
       "    </tr>\n",
       "    <tr>\n",
       "      <th>2</th>\n",
       "      <td>28050PK20B</td>\n",
       "      <td>B</td>\n",
       "      <td>PK20</td>\n",
       "      <td>VE9159</td>\n",
       "      <td>17/08/2017 08:15</td>\n",
       "      <td>432.99</td>\n",
       "      <td>82.70</td>\n",
       "      <td>66001</td>\n",
       "      <td>Pereira</td>\n",
       "      <td>Risaralda</td>\n",
       "      <td>Deportes</td>\n",
       "      <td>25</td>\n",
       "      <td>5</td>\n",
       "      <td>4</td>\n",
       "      <td>5270</td>\n",
       "      <td>9</td>\n",
       "      <td>27</td>\n",
       "      <td>29</td>\n",
       "    </tr>\n",
       "    <tr>\n",
       "      <th>3</th>\n",
       "      <td>52187PA10A</td>\n",
       "      <td>A</td>\n",
       "      <td>PA10</td>\n",
       "      <td>VE3159</td>\n",
       "      <td>23/09/2017 23:27</td>\n",
       "      <td>108.38</td>\n",
       "      <td>35.39</td>\n",
       "      <td>52435</td>\n",
       "      <td>Mallama</td>\n",
       "      <td>Nariño</td>\n",
       "      <td>Electrodomésticos</td>\n",
       "      <td>10</td>\n",
       "      <td>1</td>\n",
       "      <td>6</td>\n",
       "      <td>734</td>\n",
       "      <td>46</td>\n",
       "      <td>48</td>\n",
       "      <td>22</td>\n",
       "    </tr>\n",
       "    <tr>\n",
       "      <th>4</th>\n",
       "      <td>84639PR12A</td>\n",
       "      <td>A</td>\n",
       "      <td>PR12</td>\n",
       "      <td>VE5090</td>\n",
       "      <td>07/01/2018 11:50</td>\n",
       "      <td>51.50</td>\n",
       "      <td>11.10</td>\n",
       "      <td>73001</td>\n",
       "      <td>Ibague</td>\n",
       "      <td>Tolima</td>\n",
       "      <td>Frutas y verduras</td>\n",
       "      <td>23</td>\n",
       "      <td>16</td>\n",
       "      <td>35</td>\n",
       "      <td>884</td>\n",
       "      <td>45</td>\n",
       "      <td>26</td>\n",
       "      <td>18</td>\n",
       "    </tr>\n",
       "  </tbody>\n",
       "</table>\n",
       "</div>"
      ],
      "text/plain": [
       "      orden_id order_item_id producto_id vendedor_id fecha_envio_limite  \\\n",
       "0  107500PO59A             A        PO59      VE5389   07/04/2018 18:12   \n",
       "1   37493PS22B             B        PS22      VE1558   20/10/2017 09:07   \n",
       "2   28050PK20B             B        PK20      VE9159   17/08/2017 08:15   \n",
       "3   52187PA10A             A        PA10      VE3159   23/09/2017 23:27   \n",
       "4   84639PR12A             A        PR12      VE5090   07/01/2018 11:50   \n",
       "\n",
       "   precio  valor_flete codigo_postal_vendedor ciudad_vendedor  \\\n",
       "0  271.86        30.72                  52435         Mallama   \n",
       "1  115.73         4.68                  52203           Colon   \n",
       "2  432.99        82.70                  66001         Pereira   \n",
       "3  108.38        35.39                  52435         Mallama   \n",
       "4   51.50        11.10                  73001          Ibague   \n",
       "\n",
       "  departamento_vendedor nombre_categoria_producto  longitud_nombre_producto  \\\n",
       "0                Nariño    Productos ecoamigables                         6   \n",
       "1                Nariño                Carnicería                        10   \n",
       "2             Risaralda                  Deportes                        25   \n",
       "3                Nariño         Electrodomésticos                        10   \n",
       "4                Tolima         Frutas y verduras                        23   \n",
       "\n",
       "   longitud_descripcion_producto  cantidad_fotos_producto  peso_g_producto  \\\n",
       "0                              7                       27             2486   \n",
       "1                             31                       20              256   \n",
       "2                              5                        4             5270   \n",
       "3                              1                        6              734   \n",
       "4                             16                       35              884   \n",
       "\n",
       "   longitud_cm_producto  altura_cm_producto  ancho_cm_producto  \n",
       "0                    17                  11                 14  \n",
       "1                    43                   2                 21  \n",
       "2                     9                  27                 29  \n",
       "3                    46                  48                 22  \n",
       "4                    45                  26                 18  "
      ]
     },
     "execution_count": 10,
     "metadata": {},
     "output_type": "execute_result"
    }
   ],
   "source": [
    "#Establecer un método para eliminar los duplicados \n",
    "data=data.drop_duplicates()\n",
    "data.head(5)"
   ]
  },
  {
   "cell_type": "code",
   "execution_count": 11,
   "id": "6f457244-49e0-4f78-ae7b-f7ff1c7812be",
   "metadata": {},
   "outputs": [
    {
     "data": {
      "text/plain": [
       "0"
      ]
     },
     "execution_count": 11,
     "metadata": {},
     "output_type": "execute_result"
    }
   ],
   "source": [
    "data.duplicated().sum()"
   ]
  },
  {
   "cell_type": "markdown",
   "id": "26d6bbe5-5b9e-4a52-944e-70fd32569997",
   "metadata": {},
   "source": [
    "# Elegir el formato"
   ]
  },
  {
   "cell_type": "code",
   "execution_count": 12,
   "id": "ec3bca2c-0486-436a-aac8-04d62d70b538",
   "metadata": {},
   "outputs": [
    {
     "data": {
      "text/plain": [
       "Timestamp('2025-04-16 20:26:18.129302')"
      ]
     },
     "execution_count": 12,
     "metadata": {},
     "output_type": "execute_result"
    }
   ],
   "source": [
    "#Calcular la fecha de envío hasta hoy \n",
    "hoy=pd.to_datetime(\"now\")\n",
    "hoy"
   ]
  },
  {
   "cell_type": "code",
   "execution_count": 13,
   "id": "4a34e9e2-fcbd-4b6e-bb64-d296f02f1a15",
   "metadata": {},
   "outputs": [
    {
     "data": {
      "text/plain": [
       "0        07/04/2018 18:12\n",
       "1        20/10/2017 09:07\n",
       "2        17/08/2017 08:15\n",
       "3        23/09/2017 23:27\n",
       "4        07/01/2018 11:50\n",
       "               ...       \n",
       "10129    01/04/2018 11:38\n",
       "10130    21/10/2017 17:09\n",
       "10131    10/10/2017 08:37\n",
       "10132    13/11/2017 03:20\n",
       "10133    26/12/2017 19:34\n",
       "Name: fecha_envio_limite, Length: 10134, dtype: object"
      ]
     },
     "execution_count": 13,
     "metadata": {},
     "output_type": "execute_result"
    }
   ],
   "source": [
    "#Restar los dias que hay de hoy hasta la fecha de envío\n",
    "data[\"fecha_envio_limite\"]"
   ]
  },
  {
   "cell_type": "code",
   "execution_count": 14,
   "id": "6ee2bb67-df2c-4517-8a87-d50d94a8210f",
   "metadata": {},
   "outputs": [
    {
     "data": {
      "text/plain": [
       "fecha_envio_limite    object\n",
       "dtype: object"
      ]
     },
     "execution_count": 14,
     "metadata": {},
     "output_type": "execute_result"
    }
   ],
   "source": [
    "data[[\"fecha_envio_limite\"]].dtypes"
   ]
  },
  {
   "cell_type": "code",
   "execution_count": 15,
   "id": "290876c7-7e3a-48ed-8f2e-7d842a41982a",
   "metadata": {},
   "outputs": [
    {
     "data": {
      "text/plain": [
       "fecha_envio_limite    datetime64[ns]\n",
       "dtype: object"
      ]
     },
     "execution_count": 15,
     "metadata": {},
     "output_type": "execute_result"
    }
   ],
   "source": [
    "data[\"fecha_envio_limite\"]=pd.to_datetime(data[\"fecha_envio_limite\"],format=\"%d/%m/%Y %H:%M\")#Verificar el formato de la fecha\n",
    "data[[\"fecha_envio_limite\"]].dtypes"
   ]
  },
  {
   "cell_type": "code",
   "execution_count": 16,
   "id": "685fea59-31ce-4fc0-8fd7-a45b74083a89",
   "metadata": {},
   "outputs": [
    {
     "data": {
      "text/plain": [
       "0       2566 days 02:14:18.129302\n",
       "1       2735 days 11:19:18.129302\n",
       "2       2799 days 12:11:18.129302\n",
       "3       2761 days 20:59:18.129302\n",
       "4       2656 days 08:36:18.129302\n",
       "                   ...           \n",
       "10129   2572 days 08:48:18.129302\n",
       "10130   2734 days 03:17:18.129302\n",
       "10131   2745 days 11:49:18.129302\n",
       "10132   2711 days 17:06:18.129302\n",
       "10133   2668 days 00:52:18.129302\n",
       "Name: fecha_envio_limite, Length: 10134, dtype: timedelta64[ns]"
      ]
     },
     "execution_count": 16,
     "metadata": {},
     "output_type": "execute_result"
    }
   ],
   "source": [
    "hoy-data[\"fecha_envio_limite\"]"
   ]
  },
  {
   "cell_type": "code",
   "execution_count": null,
   "id": "123527cb-0297-4be0-a7e2-dc3eebc854bd",
   "metadata": {},
   "outputs": [],
   "source": []
  }
 ],
 "metadata": {
  "kernelspec": {
   "display_name": "Python 3 (ipykernel)",
   "language": "python",
   "name": "python3"
  },
  "language_info": {
   "codemirror_mode": {
    "name": "ipython",
    "version": 3
   },
   "file_extension": ".py",
   "mimetype": "text/x-python",
   "name": "python",
   "nbconvert_exporter": "python",
   "pygments_lexer": "ipython3",
   "version": "3.12.9"
  }
 },
 "nbformat": 4,
 "nbformat_minor": 5
}

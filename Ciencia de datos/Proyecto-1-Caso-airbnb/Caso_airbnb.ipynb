{
 "cells": [
  {
   "cell_type": "markdown",
   "id": "aec42a0d-1ae5-47a7-aff8-3a5906f97a16",
   "metadata": {},
   "source": [
    "# ¿Entre que puntajes está el 53% de las calificaciones de revisión más bajas de la plataforma?"
   ]
  },
  {
   "cell_type": "markdown",
   "id": "2f643890-c337-4c94-a6c9-3f44fa9dd790",
   "metadata": {},
   "source": [
    "## Cargar librerias"
   ]
  },
  {
   "cell_type": "code",
   "execution_count": 3,
   "id": "542cefb0-8f79-4226-88e9-0bf4178f9ffb",
   "metadata": {},
   "outputs": [],
   "source": [
    "#importar librerias o archivos\n",
    "#Libreria para el comando del sistema\n",
    "import os \n",
    "#import openpyxl\n",
    "#libreria para el manejo de datos como lo es pandas\n",
    "import pandas as pd\n",
    "import numpy as np"
   ]
  },
  {
   "cell_type": "markdown",
   "id": "e0e915fe-be4f-468a-9460-3fbe09e2b207",
   "metadata": {},
   "source": [
    "## Importar archivos"
   ]
  },
  {
   "cell_type": "code",
   "execution_count": 5,
   "id": "0082a275-30b4-4c4b-ae71-f6a48476366a",
   "metadata": {},
   "outputs": [
    {
     "data": {
      "text/html": [
       "<div>\n",
       "<style scoped>\n",
       "    .dataframe tbody tr th:only-of-type {\n",
       "        vertical-align: middle;\n",
       "    }\n",
       "\n",
       "    .dataframe tbody tr th {\n",
       "        vertical-align: top;\n",
       "    }\n",
       "\n",
       "    .dataframe thead th {\n",
       "        text-align: right;\n",
       "    }\n",
       "</style>\n",
       "<table border=\"1\" class=\"dataframe\">\n",
       "  <thead>\n",
       "    <tr style=\"text-align: right;\">\n",
       "      <th></th>\n",
       "      <th>id</th>\n",
       "      <th>listing_url</th>\n",
       "      <th>scrape_id</th>\n",
       "      <th>last_scraped</th>\n",
       "      <th>name</th>\n",
       "      <th>description</th>\n",
       "      <th>neighborhood_overview</th>\n",
       "      <th>picture_url</th>\n",
       "      <th>host_id</th>\n",
       "      <th>host_url</th>\n",
       "      <th>...</th>\n",
       "      <th>review_scores_communication</th>\n",
       "      <th>review_scores_location</th>\n",
       "      <th>review_scores_value</th>\n",
       "      <th>license</th>\n",
       "      <th>instant_bookable</th>\n",
       "      <th>calculated_host_listings_count</th>\n",
       "      <th>calculated_host_listings_count_entire_homes</th>\n",
       "      <th>calculated_host_listings_count_private_rooms</th>\n",
       "      <th>calculated_host_listings_count_shared_rooms</th>\n",
       "      <th>reviews_per_month</th>\n",
       "    </tr>\n",
       "  </thead>\n",
       "  <tbody>\n",
       "    <tr>\n",
       "      <th>0</th>\n",
       "      <td>2818</td>\n",
       "      <td>https://www.airbnb.com/rooms/2818</td>\n",
       "      <td>20210409161549</td>\n",
       "      <td>2021-04-12</td>\n",
       "      <td>Quiet Garden View Room &amp; Super Fast WiFi</td>\n",
       "      <td>Quiet Garden View Room &amp; Super Fast WiFi&lt;br /&gt;...</td>\n",
       "      <td>Indische Buurt (\"Indies Neighborhood\") is a ne...</td>\n",
       "      <td>https://a0.muscache.com/pictures/10272854/8dcc...</td>\n",
       "      <td>3159</td>\n",
       "      <td>https://www.airbnb.com/users/show/3159</td>\n",
       "      <td>...</td>\n",
       "      <td>10.0</td>\n",
       "      <td>9.0</td>\n",
       "      <td>10.0</td>\n",
       "      <td>NaN</td>\n",
       "      <td>t</td>\n",
       "      <td>1</td>\n",
       "      <td>0</td>\n",
       "      <td>1</td>\n",
       "      <td>0</td>\n",
       "      <td>1.90</td>\n",
       "    </tr>\n",
       "    <tr>\n",
       "      <th>1</th>\n",
       "      <td>20168</td>\n",
       "      <td>https://www.airbnb.com/rooms/20168</td>\n",
       "      <td>20210409161549</td>\n",
       "      <td>2021-04-12</td>\n",
       "      <td>Studio with private bathroom in the centre 1</td>\n",
       "      <td>17th century Dutch townhouse in the heart of t...</td>\n",
       "      <td>Located just in between famous central canals....</td>\n",
       "      <td>https://a0.muscache.com/pictures/69979628/fd6a...</td>\n",
       "      <td>59484</td>\n",
       "      <td>https://www.airbnb.com/users/show/59484</td>\n",
       "      <td>...</td>\n",
       "      <td>10.0</td>\n",
       "      <td>10.0</td>\n",
       "      <td>9.0</td>\n",
       "      <td>0363 CBB3 2C10 0C2A 1E29</td>\n",
       "      <td>t</td>\n",
       "      <td>2</td>\n",
       "      <td>0</td>\n",
       "      <td>2</td>\n",
       "      <td>0</td>\n",
       "      <td>2.50</td>\n",
       "    </tr>\n",
       "    <tr>\n",
       "      <th>2</th>\n",
       "      <td>25428</td>\n",
       "      <td>https://www.airbnb.com/rooms/25428</td>\n",
       "      <td>20210409161549</td>\n",
       "      <td>2021-04-11</td>\n",
       "      <td>Lovely, 1 bed apt in Ctr (w.lift) -3/20-6/20(f...</td>\n",
       "      <td>Lovely apt in Centre ( lift &amp; fireplace) near ...</td>\n",
       "      <td>NaN</td>\n",
       "      <td>https://a0.muscache.com/pictures/138431/7079a9...</td>\n",
       "      <td>56142</td>\n",
       "      <td>https://www.airbnb.com/users/show/56142</td>\n",
       "      <td>...</td>\n",
       "      <td>10.0</td>\n",
       "      <td>10.0</td>\n",
       "      <td>10.0</td>\n",
       "      <td>NaN</td>\n",
       "      <td>f</td>\n",
       "      <td>2</td>\n",
       "      <td>2</td>\n",
       "      <td>0</td>\n",
       "      <td>0</td>\n",
       "      <td>0.13</td>\n",
       "    </tr>\n",
       "    <tr>\n",
       "      <th>3</th>\n",
       "      <td>27886</td>\n",
       "      <td>https://www.airbnb.com/rooms/27886</td>\n",
       "      <td>20210409161549</td>\n",
       "      <td>2021-04-11</td>\n",
       "      <td>Romantic, stylish B&amp;B houseboat in canal district</td>\n",
       "      <td>Stylish and romantic houseboat on fantastic hi...</td>\n",
       "      <td>Central, quiet, safe, clean and beautiful.</td>\n",
       "      <td>https://a0.muscache.com/pictures/02c2da9d-660e...</td>\n",
       "      <td>97647</td>\n",
       "      <td>https://www.airbnb.com/users/show/97647</td>\n",
       "      <td>...</td>\n",
       "      <td>10.0</td>\n",
       "      <td>10.0</td>\n",
       "      <td>10.0</td>\n",
       "      <td>0363 974D 4986 7411 88D8</td>\n",
       "      <td>t</td>\n",
       "      <td>1</td>\n",
       "      <td>0</td>\n",
       "      <td>1</td>\n",
       "      <td>0</td>\n",
       "      <td>1.94</td>\n",
       "    </tr>\n",
       "    <tr>\n",
       "      <th>4</th>\n",
       "      <td>28871</td>\n",
       "      <td>https://www.airbnb.com/rooms/28871</td>\n",
       "      <td>20210409161549</td>\n",
       "      <td>2021-04-13</td>\n",
       "      <td>Comfortable double room</td>\n",
       "      <td>&lt;b&gt;The space&lt;/b&gt;&lt;br /&gt;In a monumental house ri...</td>\n",
       "      <td>Flower market , Leidseplein , Rembrantsplein</td>\n",
       "      <td>https://a0.muscache.com/pictures/160889/362340...</td>\n",
       "      <td>124245</td>\n",
       "      <td>https://www.airbnb.com/users/show/124245</td>\n",
       "      <td>...</td>\n",
       "      <td>10.0</td>\n",
       "      <td>10.0</td>\n",
       "      <td>10.0</td>\n",
       "      <td>0363 607B EA74 0BD8 2F6F</td>\n",
       "      <td>f</td>\n",
       "      <td>2</td>\n",
       "      <td>0</td>\n",
       "      <td>2</td>\n",
       "      <td>0</td>\n",
       "      <td>2.59</td>\n",
       "    </tr>\n",
       "  </tbody>\n",
       "</table>\n",
       "<p>5 rows × 74 columns</p>\n",
       "</div>"
      ],
      "text/plain": [
       "      id                         listing_url       scrape_id last_scraped  \\\n",
       "0   2818   https://www.airbnb.com/rooms/2818  20210409161549   2021-04-12   \n",
       "1  20168  https://www.airbnb.com/rooms/20168  20210409161549   2021-04-12   \n",
       "2  25428  https://www.airbnb.com/rooms/25428  20210409161549   2021-04-11   \n",
       "3  27886  https://www.airbnb.com/rooms/27886  20210409161549   2021-04-11   \n",
       "4  28871  https://www.airbnb.com/rooms/28871  20210409161549   2021-04-13   \n",
       "\n",
       "                                                name  \\\n",
       "0           Quiet Garden View Room & Super Fast WiFi   \n",
       "1       Studio with private bathroom in the centre 1   \n",
       "2  Lovely, 1 bed apt in Ctr (w.lift) -3/20-6/20(f...   \n",
       "3  Romantic, stylish B&B houseboat in canal district   \n",
       "4                            Comfortable double room   \n",
       "\n",
       "                                         description  \\\n",
       "0  Quiet Garden View Room & Super Fast WiFi<br />...   \n",
       "1  17th century Dutch townhouse in the heart of t...   \n",
       "2  Lovely apt in Centre ( lift & fireplace) near ...   \n",
       "3  Stylish and romantic houseboat on fantastic hi...   \n",
       "4  <b>The space</b><br />In a monumental house ri...   \n",
       "\n",
       "                               neighborhood_overview  \\\n",
       "0  Indische Buurt (\"Indies Neighborhood\") is a ne...   \n",
       "1  Located just in between famous central canals....   \n",
       "2                                                NaN   \n",
       "3         Central, quiet, safe, clean and beautiful.   \n",
       "4       Flower market , Leidseplein , Rembrantsplein   \n",
       "\n",
       "                                         picture_url  host_id  \\\n",
       "0  https://a0.muscache.com/pictures/10272854/8dcc...     3159   \n",
       "1  https://a0.muscache.com/pictures/69979628/fd6a...    59484   \n",
       "2  https://a0.muscache.com/pictures/138431/7079a9...    56142   \n",
       "3  https://a0.muscache.com/pictures/02c2da9d-660e...    97647   \n",
       "4  https://a0.muscache.com/pictures/160889/362340...   124245   \n",
       "\n",
       "                                   host_url  ... review_scores_communication  \\\n",
       "0    https://www.airbnb.com/users/show/3159  ...                        10.0   \n",
       "1   https://www.airbnb.com/users/show/59484  ...                        10.0   \n",
       "2   https://www.airbnb.com/users/show/56142  ...                        10.0   \n",
       "3   https://www.airbnb.com/users/show/97647  ...                        10.0   \n",
       "4  https://www.airbnb.com/users/show/124245  ...                        10.0   \n",
       "\n",
       "  review_scores_location review_scores_value                   license  \\\n",
       "0                    9.0                10.0                       NaN   \n",
       "1                   10.0                 9.0  0363 CBB3 2C10 0C2A 1E29   \n",
       "2                   10.0                10.0                       NaN   \n",
       "3                   10.0                10.0  0363 974D 4986 7411 88D8   \n",
       "4                   10.0                10.0  0363 607B EA74 0BD8 2F6F   \n",
       "\n",
       "  instant_bookable  calculated_host_listings_count  \\\n",
       "0                t                               1   \n",
       "1                t                               2   \n",
       "2                f                               2   \n",
       "3                t                               1   \n",
       "4                f                               2   \n",
       "\n",
       "   calculated_host_listings_count_entire_homes  \\\n",
       "0                                            0   \n",
       "1                                            0   \n",
       "2                                            2   \n",
       "3                                            0   \n",
       "4                                            0   \n",
       "\n",
       "  calculated_host_listings_count_private_rooms  \\\n",
       "0                                            1   \n",
       "1                                            2   \n",
       "2                                            0   \n",
       "3                                            1   \n",
       "4                                            2   \n",
       "\n",
       "  calculated_host_listings_count_shared_rooms reviews_per_month  \n",
       "0                                           0              1.90  \n",
       "1                                           0              2.50  \n",
       "2                                           0              0.13  \n",
       "3                                           0              1.94  \n",
       "4                                           0              2.59  \n",
       "\n",
       "[5 rows x 74 columns]"
      ]
     },
     "execution_count": 5,
     "metadata": {},
     "output_type": "execute_result"
    }
   ],
   "source": [
    "#Importar archivos\n",
    "data=pd.read_excel(\"datos_airbnbn.xlsx\")\n",
    "data.head(5)"
   ]
  },
  {
   "cell_type": "code",
   "execution_count": 6,
   "id": "dc586825-e6fa-4d1e-8387-3ad4d677c851",
   "metadata": {},
   "outputs": [
    {
     "name": "stdout",
     "output_type": "stream",
     "text": [
      "id                                                       int64\n",
      "listing_url                                             object\n",
      "scrape_id                                                int64\n",
      "last_scraped                                    datetime64[ns]\n",
      "name                                                    object\n",
      "                                                     ...      \n",
      "calculated_host_listings_count                           int64\n",
      "calculated_host_listings_count_entire_homes              int64\n",
      "calculated_host_listings_count_private_rooms             int64\n",
      "calculated_host_listings_count_shared_rooms              int64\n",
      "reviews_per_month                                      float64\n",
      "Length: 74, dtype: object\n"
     ]
    }
   ],
   "source": [
    "print(data.dtypes)"
   ]
  },
  {
   "cell_type": "code",
   "execution_count": 7,
   "id": "aebf2b4e-8c1c-4c2c-bc44-b2c9821c4e12",
   "metadata": {},
   "outputs": [
    {
     "data": {
      "text/plain": [
       "0         98.0\n",
       "1         89.0\n",
       "2        100.0\n",
       "3         99.0\n",
       "4         97.0\n",
       "         ...  \n",
       "17820      NaN\n",
       "17821      NaN\n",
       "17822      NaN\n",
       "17823      NaN\n",
       "17824      NaN\n",
       "Name: review_scores_rating, Length: 17825, dtype: float64"
      ]
     },
     "execution_count": 7,
     "metadata": {},
     "output_type": "execute_result"
    }
   ],
   "source": [
    "data[\"review_scores_rating\"]"
   ]
  },
  {
   "cell_type": "markdown",
   "id": "0f200b99-be9c-45e0-8a6e-04b040077282",
   "metadata": {},
   "source": [
    "## Contar valores nulos"
   ]
  },
  {
   "cell_type": "code",
   "execution_count": 9,
   "id": "50c7e5a3-ab03-4e2d-8ab4-b7ac20c5a2c9",
   "metadata": {},
   "outputs": [
    {
     "data": {
      "text/plain": [
       "2638"
      ]
     },
     "execution_count": 9,
     "metadata": {},
     "output_type": "execute_result"
    }
   ],
   "source": [
    "#contar valores nulos\n",
    "data[\"review_scores_rating\"].isna().sum()"
   ]
  },
  {
   "cell_type": "markdown",
   "id": "f36de49f-d5fb-44b5-87d7-a2a4567a6fd2",
   "metadata": {},
   "source": [
    "## Crear tablas de frecuencia absoluta y relativa"
   ]
  },
  {
   "cell_type": "code",
   "execution_count": 11,
   "id": "1beb1703-be51-46c6-872e-9144daf89ca6",
   "metadata": {},
   "outputs": [
    {
     "name": "stdout",
     "output_type": "stream",
     "text": [
      "[ 98.  89. 100.  99.  97.  95.  96.  80.  93.  92.  91.  nan  94.  85.\n",
      "  86.  90.  72.  88.  84.  87.  83.  77.  81.  75.  82.  70.  60.  65.\n",
      "  67.  40.  73.  20.  76.  71.  74.  78.  66.  32.  56.  50.  64.  79.\n",
      "  68.  47.  69.  57.  63.  53.  48.]\n"
     ]
    }
   ],
   "source": [
    "print(data[\"review_scores_rating\"].unique())  # Valores únicos"
   ]
  },
  {
   "cell_type": "code",
   "execution_count": 12,
   "id": "2a30b34d-8827-417b-93f7-7cb3f6f9eac5",
   "metadata": {},
   "outputs": [
    {
     "data": {
      "text/html": [
       "<div>\n",
       "<style scoped>\n",
       "    .dataframe tbody tr th:only-of-type {\n",
       "        vertical-align: middle;\n",
       "    }\n",
       "\n",
       "    .dataframe tbody tr th {\n",
       "        vertical-align: top;\n",
       "    }\n",
       "\n",
       "    .dataframe thead th {\n",
       "        text-align: right;\n",
       "    }\n",
       "</style>\n",
       "<table border=\"1\" class=\"dataframe\">\n",
       "  <thead>\n",
       "    <tr style=\"text-align: right;\">\n",
       "      <th></th>\n",
       "      <th>valor_rating</th>\n",
       "      <th>frecuencia_absoluta</th>\n",
       "    </tr>\n",
       "  </thead>\n",
       "  <tbody>\n",
       "    <tr>\n",
       "      <th>0</th>\n",
       "      <td>100.0</td>\n",
       "      <td>4582</td>\n",
       "    </tr>\n",
       "    <tr>\n",
       "      <th>1</th>\n",
       "      <td>98.0</td>\n",
       "      <td>1557</td>\n",
       "    </tr>\n",
       "    <tr>\n",
       "      <th>2</th>\n",
       "      <td>97.0</td>\n",
       "      <td>1274</td>\n",
       "    </tr>\n",
       "    <tr>\n",
       "      <th>3</th>\n",
       "      <td>96.0</td>\n",
       "      <td>1162</td>\n",
       "    </tr>\n",
       "    <tr>\n",
       "      <th>4</th>\n",
       "      <td>95.0</td>\n",
       "      <td>956</td>\n",
       "    </tr>\n",
       "  </tbody>\n",
       "</table>\n",
       "</div>"
      ],
      "text/plain": [
       "   valor_rating  frecuencia_absoluta\n",
       "0         100.0                 4582\n",
       "1          98.0                 1557\n",
       "2          97.0                 1274\n",
       "3          96.0                 1162\n",
       "4          95.0                  956"
      ]
     },
     "execution_count": 12,
     "metadata": {},
     "output_type": "execute_result"
    }
   ],
   "source": [
    "# Eliminar valores nulos\n",
    "data_limpia_rating= data.dropna(subset=[\"review_scores_rating\"])\n",
    "\n",
    "# 1. Obtener los conteos\n",
    "conteos = data_limpia_rating[\"review_scores_rating\"].value_counts()\n",
    "\n",
    "# 2. Convertir a DataFrame y renombrar columnas\n",
    "frec_data = conteos.reset_index()\n",
    "frec_data.columns = ['valor_rating', 'frecuencia_absoluta']  # Nombres exactos\n",
    "\n",
    "# 3. Ordenar por frecuencia\n",
    "frec_data = frec_data.sort_values('frecuencia_absoluta', ascending=False)\n",
    "\n",
    "# Mostrar resultados\n",
    "frec_data.head(5)"
   ]
  },
  {
   "cell_type": "code",
   "execution_count": 13,
   "id": "e423823a-da8f-427d-99c6-630e43b9353d",
   "metadata": {},
   "outputs": [
    {
     "data": {
      "text/plain": [
       "0"
      ]
     },
     "execution_count": 13,
     "metadata": {},
     "output_type": "execute_result"
    }
   ],
   "source": [
    "data_limpia_rating[\"review_scores_rating\"].isna().sum()#volver a contar valores nulos"
   ]
  },
  {
   "cell_type": "code",
   "execution_count": 14,
   "id": "61da8ae4-f222-4958-a67b-b5a55570cf7d",
   "metadata": {},
   "outputs": [
    {
     "name": "stdout",
     "output_type": "stream",
     "text": [
      "Minimo es: 20.0,El maximo es: 100.0 El rango es: 80.0\n"
     ]
    }
   ],
   "source": [
    "rango=data_limpia_rating[\"review_scores_rating\"].max()-data[\"review_scores_rating\"].min()\n",
    "print(f\"Minimo es: {data_limpia_rating[\"review_scores_rating\"].min()},El maximo es: {data_limpia_rating[\"review_scores_rating\"].max()} El rango es: {rango}\")"
   ]
  },
  {
   "cell_type": "code",
   "execution_count": 15,
   "id": "94a51e64-4073-4184-998e-0b3afce0d388",
   "metadata": {},
   "outputs": [],
   "source": [
    "num_intervalos=14\n",
    "ancho_intervalo=6"
   ]
  },
  {
   "cell_type": "code",
   "execution_count": 16,
   "id": "08b11184-7e20-4b4d-9faf-5c061d6e42ca",
   "metadata": {},
   "outputs": [
    {
     "name": "stdout",
     "output_type": "stream",
     "text": [
      "15187\n",
      "15187\n"
     ]
    }
   ],
   "source": [
    "print(frec_data[\"frecuencia_absoluta\"].sum())\n",
    "print(data[\"review_scores_rating\"].value_counts().sum())"
   ]
  },
  {
   "cell_type": "code",
   "execution_count": 17,
   "id": "b98249f8-4779-42b6-a0cc-66e90f8edc18",
   "metadata": {},
   "outputs": [
    {
     "name": "stdout",
     "output_type": "stream",
     "text": [
      "20.0\n",
      "100.0\n",
      "[ 19.5  25.5  31.5  37.5  43.5  49.5  55.5  61.5  67.5  73.5  79.5  85.5\n",
      "  91.5  97.5 103.5]\n"
     ]
    }
   ],
   "source": [
    "#Crear intervalos\n",
    "min_val = data_limpia_rating[\"review_scores_rating\"].min()\n",
    "max_val = data_limpia_rating[\"review_scores_rating\"].max()\n",
    "print(min_val)\n",
    "print(max_val)\n",
    "bins = np.arange(start=min_val-.5, stop=max_val+6, step=6)\n",
    "intervalos = pd.cut(data[\"review_scores_rating\"], bins=bins, precision=0)\n",
    "print(bins)\n"
   ]
  },
  {
   "cell_type": "code",
   "execution_count": 18,
   "id": "efed43c7-77ef-4ef4-8821-4a0054d1a674",
   "metadata": {},
   "outputs": [
    {
     "name": "stdout",
     "output_type": "stream",
     "text": [
      "   review_scores_rating  count\n",
      "0          (20.0, 26.0]     24\n",
      "1          (26.0, 32.0]      0\n",
      "2          (32.0, 38.0]      1\n",
      "3          (38.0, 44.0]     22\n",
      "4          (44.0, 50.0]      2\n",
      "5          (50.0, 56.0]      8\n",
      "6          (56.0, 62.0]     96\n",
      "7          (62.0, 68.0]     27\n",
      "8          (68.0, 74.0]     78\n",
      "9          (74.0, 80.0]     57\n",
      "10         (80.0, 86.0]    746\n",
      "11         (86.0, 92.0]   1735\n",
      "12         (92.0, 98.0]   5321\n",
      "13        (98.0, 104.0]   7070\n",
      "15187\n"
     ]
    }
   ],
   "source": [
    "#Crear tabla de frecuencias (sin sobreescribir frec_data)\n",
    "tbl_frecuencias = pd.Series(intervalos).value_counts( sort=False).reset_index()\n",
    "print(tbl_frecuencias)\n",
    "print(tbl_frecuencias[\"count\"].sum())"
   ]
  },
  {
   "cell_type": "code",
   "execution_count": 19,
   "id": "4bb27ff4-6efa-4e41-91eb-f3f31732fe61",
   "metadata": {},
   "outputs": [
    {
     "data": {
      "text/html": [
       "<div>\n",
       "<style scoped>\n",
       "    .dataframe tbody tr th:only-of-type {\n",
       "        vertical-align: middle;\n",
       "    }\n",
       "\n",
       "    .dataframe tbody tr th {\n",
       "        vertical-align: top;\n",
       "    }\n",
       "\n",
       "    .dataframe thead th {\n",
       "        text-align: right;\n",
       "    }\n",
       "</style>\n",
       "<table border=\"1\" class=\"dataframe\">\n",
       "  <thead>\n",
       "    <tr style=\"text-align: right;\">\n",
       "      <th></th>\n",
       "      <th>intervalo</th>\n",
       "      <th>frecuencia</th>\n",
       "      <th>frecuencia_relativa</th>\n",
       "      <th>frecuencia_acumulada</th>\n",
       "      <th>frecuencia_acumulada_relativa</th>\n",
       "    </tr>\n",
       "  </thead>\n",
       "  <tbody>\n",
       "    <tr>\n",
       "      <th>0</th>\n",
       "      <td>(20.0, 26.0]</td>\n",
       "      <td>24</td>\n",
       "      <td>0.158030</td>\n",
       "      <td>24</td>\n",
       "      <td>0.158030</td>\n",
       "    </tr>\n",
       "    <tr>\n",
       "      <th>1</th>\n",
       "      <td>(26.0, 32.0]</td>\n",
       "      <td>0</td>\n",
       "      <td>0.000000</td>\n",
       "      <td>24</td>\n",
       "      <td>0.158030</td>\n",
       "    </tr>\n",
       "    <tr>\n",
       "      <th>2</th>\n",
       "      <td>(32.0, 38.0]</td>\n",
       "      <td>1</td>\n",
       "      <td>0.006585</td>\n",
       "      <td>25</td>\n",
       "      <td>0.164614</td>\n",
       "    </tr>\n",
       "    <tr>\n",
       "      <th>3</th>\n",
       "      <td>(38.0, 44.0]</td>\n",
       "      <td>22</td>\n",
       "      <td>0.144861</td>\n",
       "      <td>47</td>\n",
       "      <td>0.309475</td>\n",
       "    </tr>\n",
       "    <tr>\n",
       "      <th>4</th>\n",
       "      <td>(44.0, 50.0]</td>\n",
       "      <td>2</td>\n",
       "      <td>0.013169</td>\n",
       "      <td>49</td>\n",
       "      <td>0.322644</td>\n",
       "    </tr>\n",
       "    <tr>\n",
       "      <th>5</th>\n",
       "      <td>(50.0, 56.0]</td>\n",
       "      <td>8</td>\n",
       "      <td>0.052677</td>\n",
       "      <td>57</td>\n",
       "      <td>0.375321</td>\n",
       "    </tr>\n",
       "    <tr>\n",
       "      <th>6</th>\n",
       "      <td>(56.0, 62.0]</td>\n",
       "      <td>96</td>\n",
       "      <td>0.632120</td>\n",
       "      <td>153</td>\n",
       "      <td>1.007441</td>\n",
       "    </tr>\n",
       "    <tr>\n",
       "      <th>7</th>\n",
       "      <td>(62.0, 68.0]</td>\n",
       "      <td>27</td>\n",
       "      <td>0.177784</td>\n",
       "      <td>180</td>\n",
       "      <td>1.185224</td>\n",
       "    </tr>\n",
       "    <tr>\n",
       "      <th>8</th>\n",
       "      <td>(68.0, 74.0]</td>\n",
       "      <td>78</td>\n",
       "      <td>0.513597</td>\n",
       "      <td>258</td>\n",
       "      <td>1.698821</td>\n",
       "    </tr>\n",
       "    <tr>\n",
       "      <th>9</th>\n",
       "      <td>(74.0, 80.0]</td>\n",
       "      <td>57</td>\n",
       "      <td>0.375321</td>\n",
       "      <td>315</td>\n",
       "      <td>2.074142</td>\n",
       "    </tr>\n",
       "    <tr>\n",
       "      <th>10</th>\n",
       "      <td>(80.0, 86.0]</td>\n",
       "      <td>746</td>\n",
       "      <td>4.912096</td>\n",
       "      <td>1061</td>\n",
       "      <td>6.986238</td>\n",
       "    </tr>\n",
       "    <tr>\n",
       "      <th>11</th>\n",
       "      <td>(86.0, 92.0]</td>\n",
       "      <td>1735</td>\n",
       "      <td>11.424244</td>\n",
       "      <td>2796</td>\n",
       "      <td>18.410483</td>\n",
       "    </tr>\n",
       "    <tr>\n",
       "      <th>12</th>\n",
       "      <td>(92.0, 98.0]</td>\n",
       "      <td>5321</td>\n",
       "      <td>35.036544</td>\n",
       "      <td>8117</td>\n",
       "      <td>53.447027</td>\n",
       "    </tr>\n",
       "    <tr>\n",
       "      <th>13</th>\n",
       "      <td>(98.0, 104.0]</td>\n",
       "      <td>7070</td>\n",
       "      <td>46.552973</td>\n",
       "      <td>15187</td>\n",
       "      <td>100.000000</td>\n",
       "    </tr>\n",
       "  </tbody>\n",
       "</table>\n",
       "</div>"
      ],
      "text/plain": [
       "        intervalo  frecuencia  frecuencia_relativa  frecuencia_acumulada  \\\n",
       "0    (20.0, 26.0]          24             0.158030                    24   \n",
       "1    (26.0, 32.0]           0             0.000000                    24   \n",
       "2    (32.0, 38.0]           1             0.006585                    25   \n",
       "3    (38.0, 44.0]          22             0.144861                    47   \n",
       "4    (44.0, 50.0]           2             0.013169                    49   \n",
       "5    (50.0, 56.0]           8             0.052677                    57   \n",
       "6    (56.0, 62.0]          96             0.632120                   153   \n",
       "7    (62.0, 68.0]          27             0.177784                   180   \n",
       "8    (68.0, 74.0]          78             0.513597                   258   \n",
       "9    (74.0, 80.0]          57             0.375321                   315   \n",
       "10   (80.0, 86.0]         746             4.912096                  1061   \n",
       "11   (86.0, 92.0]        1735            11.424244                  2796   \n",
       "12   (92.0, 98.0]        5321            35.036544                  8117   \n",
       "13  (98.0, 104.0]        7070            46.552973                 15187   \n",
       "\n",
       "    frecuencia_acumulada_relativa  \n",
       "0                        0.158030  \n",
       "1                        0.158030  \n",
       "2                        0.164614  \n",
       "3                        0.309475  \n",
       "4                        0.322644  \n",
       "5                        0.375321  \n",
       "6                        1.007441  \n",
       "7                        1.185224  \n",
       "8                        1.698821  \n",
       "9                        2.074142  \n",
       "10                       6.986238  \n",
       "11                      18.410483  \n",
       "12                      53.447027  \n",
       "13                     100.000000  "
      ]
     },
     "execution_count": 19,
     "metadata": {},
     "output_type": "execute_result"
    }
   ],
   "source": [
    "#Renombrar columnas para claridad\n",
    "tbl_frecuencias.columns = [\"intervalo\", \"frecuencia\"]\n",
    "tbl_frecuencias[\"frecuencia_relativa\"]=tbl_frecuencias[\"frecuencia\"].apply(lambda x: (x/tbl_frecuencias[\"frecuencia\"].sum())*100)\n",
    "tbl_frecuencias[\"frecuencia_acumulada\"]=tbl_frecuencias[\"frecuencia\"].cumsum()\n",
    "tbl_frecuencias[\"frecuencia_acumulada_relativa\"]=tbl_frecuencias[\"frecuencia_relativa\"].cumsum()\n",
    "#Mostrar resultado\n",
    "tbl_frecuencias"
   ]
  },
  {
   "cell_type": "code",
   "execution_count": 20,
   "id": "05a8fd0b-927a-4673-a07e-1974376b2d7e",
   "metadata": {},
   "outputs": [
    {
     "data": {
      "text/plain": [
       "15187"
      ]
     },
     "execution_count": 20,
     "metadata": {},
     "output_type": "execute_result"
    }
   ],
   "source": [
    "tbl_frecuencias[\"frecuencia\"].sum()"
   ]
  },
  {
   "cell_type": "markdown",
   "id": "7113c011-ec7f-491f-aa3f-1317d13b83b6",
   "metadata": {},
   "source": [
    "# ¿Cuál es el precio promedio de alquiler de un inmueble qué se situé por encima del 78%? "
   ]
  },
  {
   "cell_type": "code",
   "execution_count": 22,
   "id": "18e4fbea-cd47-4845-b68a-52650f90e983",
   "metadata": {},
   "outputs": [
    {
     "data": {
      "text/plain": [
       "count    17825.000000\n",
       "mean       154.495877\n",
       "std        154.162566\n",
       "min          0.000000\n",
       "25%         95.000000\n",
       "50%        129.000000\n",
       "75%        180.000000\n",
       "max       8000.000000\n",
       "Name: price, dtype: float64"
      ]
     },
     "execution_count": 22,
     "metadata": {},
     "output_type": "execute_result"
    }
   ],
   "source": [
    "data[\"price\"].describe()"
   ]
  },
  {
   "cell_type": "code",
   "execution_count": 23,
   "id": "67a7ed38-761a-4bbd-9633-9f623e900d8e",
   "metadata": {},
   "outputs": [],
   "source": [
    "data[\"price\"] = pd.to_numeric(data[\"price\"], errors='coerce')"
   ]
  },
  {
   "cell_type": "code",
   "execution_count": 24,
   "id": "b356474f-1325-44a9-b6c4-d6ebb84d9969",
   "metadata": {},
   "outputs": [
    {
     "data": {
      "text/plain": [
       "0"
      ]
     },
     "execution_count": 24,
     "metadata": {},
     "output_type": "execute_result"
    }
   ],
   "source": [
    "data[\"price\"].isna().sum()"
   ]
  },
  {
   "cell_type": "code",
   "execution_count": 25,
   "id": "16931419-26e1-454e-bc05-c457f0ac6797",
   "metadata": {},
   "outputs": [
    {
     "data": {
      "text/plain": [
       "count    17809.000000\n",
       "mean       154.634679\n",
       "std        154.162204\n",
       "min          4.000000\n",
       "25%         95.000000\n",
       "50%        129.000000\n",
       "75%        180.000000\n",
       "max       8000.000000\n",
       "Name: price, dtype: float64"
      ]
     },
     "execution_count": 25,
     "metadata": {},
     "output_type": "execute_result"
    }
   ],
   "source": [
    "data_filtrada_price = data[(data[\"price\"].notna()) & (data[\"price\"] != 0)]\n",
    "data_filtrada_price[\"price\"].describe()"
   ]
  },
  {
   "cell_type": "code",
   "execution_count": 26,
   "id": "eaee5290-b13c-48bb-bd64-3cc3d7d13218",
   "metadata": {},
   "outputs": [
    {
     "data": {
      "text/plain": [
       "0.01      33.00\n",
       "0.02      40.00\n",
       "0.03      48.00\n",
       "0.04      50.00\n",
       "0.05      55.00\n",
       "         ...   \n",
       "0.96     350.00\n",
       "0.97     394.04\n",
       "0.98     447.84\n",
       "0.99     524.92\n",
       "1.00    8000.00\n",
       "Name: price, Length: 100, dtype: float64"
      ]
     },
     "execution_count": 26,
     "metadata": {},
     "output_type": "execute_result"
    }
   ],
   "source": [
    "percentiles_price = data_filtrada_price[\"price\"].quantile(np.arange(0.01, 1.01, 0.01))  # 0.01 a 1.0 (1% a 100%)\n",
    "percentiles_price"
   ]
  },
  {
   "cell_type": "code",
   "execution_count": 27,
   "id": "02cc2de2-4b96-4adf-a64e-19bdd0d4e6e1",
   "metadata": {},
   "outputs": [
    {
     "data": {
      "text/html": [
       "<div>\n",
       "<style scoped>\n",
       "    .dataframe tbody tr th:only-of-type {\n",
       "        vertical-align: middle;\n",
       "    }\n",
       "\n",
       "    .dataframe tbody tr th {\n",
       "        vertical-align: top;\n",
       "    }\n",
       "\n",
       "    .dataframe thead th {\n",
       "        text-align: right;\n",
       "    }\n",
       "</style>\n",
       "<table border=\"1\" class=\"dataframe\">\n",
       "  <thead>\n",
       "    <tr style=\"text-align: right;\">\n",
       "      <th></th>\n",
       "      <th>percentil</th>\n",
       "      <th>valor</th>\n",
       "    </tr>\n",
       "  </thead>\n",
       "  <tbody>\n",
       "    <tr>\n",
       "      <th>0</th>\n",
       "      <td>0.01</td>\n",
       "      <td>33.00</td>\n",
       "    </tr>\n",
       "    <tr>\n",
       "      <th>1</th>\n",
       "      <td>0.02</td>\n",
       "      <td>40.00</td>\n",
       "    </tr>\n",
       "    <tr>\n",
       "      <th>2</th>\n",
       "      <td>0.03</td>\n",
       "      <td>48.00</td>\n",
       "    </tr>\n",
       "    <tr>\n",
       "      <th>3</th>\n",
       "      <td>0.04</td>\n",
       "      <td>50.00</td>\n",
       "    </tr>\n",
       "    <tr>\n",
       "      <th>4</th>\n",
       "      <td>0.05</td>\n",
       "      <td>55.00</td>\n",
       "    </tr>\n",
       "    <tr>\n",
       "      <th>...</th>\n",
       "      <td>...</td>\n",
       "      <td>...</td>\n",
       "    </tr>\n",
       "    <tr>\n",
       "      <th>95</th>\n",
       "      <td>0.96</td>\n",
       "      <td>350.00</td>\n",
       "    </tr>\n",
       "    <tr>\n",
       "      <th>96</th>\n",
       "      <td>0.97</td>\n",
       "      <td>394.04</td>\n",
       "    </tr>\n",
       "    <tr>\n",
       "      <th>97</th>\n",
       "      <td>0.98</td>\n",
       "      <td>447.84</td>\n",
       "    </tr>\n",
       "    <tr>\n",
       "      <th>98</th>\n",
       "      <td>0.99</td>\n",
       "      <td>524.92</td>\n",
       "    </tr>\n",
       "    <tr>\n",
       "      <th>99</th>\n",
       "      <td>1.00</td>\n",
       "      <td>8000.00</td>\n",
       "    </tr>\n",
       "  </tbody>\n",
       "</table>\n",
       "<p>100 rows × 2 columns</p>\n",
       "</div>"
      ],
      "text/plain": [
       "    percentil    valor\n",
       "0        0.01    33.00\n",
       "1        0.02    40.00\n",
       "2        0.03    48.00\n",
       "3        0.04    50.00\n",
       "4        0.05    55.00\n",
       "..        ...      ...\n",
       "95       0.96   350.00\n",
       "96       0.97   394.04\n",
       "97       0.98   447.84\n",
       "98       0.99   524.92\n",
       "99       1.00  8000.00\n",
       "\n",
       "[100 rows x 2 columns]"
      ]
     },
     "execution_count": 27,
     "metadata": {},
     "output_type": "execute_result"
    }
   ],
   "source": [
    "tbl_percentiles_price = (\n",
    "    pd.DataFrame(percentiles_price)\n",
    "    .reset_index()\n",
    "    .rename(columns={'index': 'percentil', 'price': 'valor'})\n",
    "    .round(2))  # Redondear a 2 decimales\n",
    "tbl_percentiles_price"
   ]
  },
  {
   "cell_type": "code",
   "execution_count": 28,
   "id": "3676a9bb-a608-4380-9ce0-7379d3c6e5e9",
   "metadata": {},
   "outputs": [],
   "source": [
    "tbl_percentiles_price.to_csv(\"tbl_percentiles_price.csv\", index=False)"
   ]
  },
  {
   "cell_type": "code",
   "execution_count": 29,
   "id": "9118c356-8244-4676-afcd-06bcf0c9746a",
   "metadata": {},
   "outputs": [
    {
     "name": "stdout",
     "output_type": "stream",
     "text": [
      "0.78    195.0\n",
      "Name: price, dtype: float64\n"
     ]
    }
   ],
   "source": [
    "\n",
    "print(data_filtrada_price[\"price\"].quantile([0.78]))"
   ]
  },
  {
   "cell_type": "code",
   "execution_count": 30,
   "id": "65e2607f-724c-440f-ac0f-ae33ca69ae9b",
   "metadata": {},
   "outputs": [
    {
     "data": {
      "text/plain": [
       "count    3866.000000\n",
       "mean      300.760217\n",
       "std       277.124085\n",
       "min       196.000000\n",
       "25%       213.000000\n",
       "50%       250.000000\n",
       "75%       300.000000\n",
       "max      8000.000000\n",
       "Name: price, dtype: float64"
      ]
     },
     "execution_count": 30,
     "metadata": {},
     "output_type": "execute_result"
    }
   ],
   "source": [
    "data_filtrada_price_78=data_filtrada_price.query(\"price >195\")\n",
    "data_filtrada_price_78[\"price\"].describe()"
   ]
  },
  {
   "cell_type": "code",
   "execution_count": 31,
   "id": "351537a0-6096-47af-8d75-d9d71ffeb68c",
   "metadata": {},
   "outputs": [
    {
     "name": "stdout",
     "output_type": "stream",
     "text": [
      "0.5    129.0\n",
      "Name: price, dtype: float64\n"
     ]
    }
   ],
   "source": [
    "print(data_filtrada_price[\"price\"].quantile([0.50]))"
   ]
  },
  {
   "cell_type": "code",
   "execution_count": 32,
   "id": "55af78d9-700a-4d9b-a7b6-aa1aa0857c9c",
   "metadata": {},
   "outputs": [
    {
     "data": {
      "text/plain": [
       "count    11772.000000\n",
       "mean       103.114594\n",
       "std         31.295890\n",
       "min          4.000000\n",
       "25%         80.000000\n",
       "50%        100.000000\n",
       "75%        128.000000\n",
       "max        154.000000\n",
       "Name: price, dtype: float64"
      ]
     },
     "execution_count": 32,
     "metadata": {},
     "output_type": "execute_result"
    }
   ],
   "source": [
    "data_filtrada_price_50=data_filtrada_price.query(\"price <154.634679\")\n",
    "data_filtrada_price_50[\"price\"].describe()"
   ]
  },
  {
   "cell_type": "code",
   "execution_count": 33,
   "id": "d8083330-9fdf-4f6f-b2b9-ff618aee4ca6",
   "metadata": {},
   "outputs": [
    {
     "name": "stdout",
     "output_type": "stream",
     "text": [
      "17809 11772\n"
     ]
    }
   ],
   "source": [
    "total_price=data_filtrada_price[\"price\"].value_counts().sum()\n",
    "total_menor_promedio=data_filtrada_price_50[\"price\"].value_counts().sum()\n",
    "print(total_price,total_menor_promedio)"
   ]
  },
  {
   "cell_type": "code",
   "execution_count": 34,
   "id": "4d8175bc-0ddb-4c7f-b0be-a2f801219528",
   "metadata": {},
   "outputs": [
    {
     "data": {
      "text/plain": [
       "66.1"
      ]
     },
     "execution_count": 34,
     "metadata": {},
     "output_type": "execute_result"
    }
   ],
   "source": [
    "porcentaje_menor_mean=((total_menor_promedio/total_price)*100).round(1)\n",
    "porcentaje_menor_mean"
   ]
  },
  {
   "cell_type": "code",
   "execution_count": 35,
   "id": "52e033b6-6454-41b3-b7f6-d7b5fe81eb41",
   "metadata": {},
   "outputs": [
    {
     "name": "stdout",
     "output_type": "stream",
     "text": [
      "154.6346790948397 154.16220360132084\n"
     ]
    }
   ],
   "source": [
    "mean_price=data_filtrada_price[\"price\"].mean()\n",
    "std_price=data_filtrada_price[\"price\"].std()\n",
    "print(mean_price,std_price)"
   ]
  },
  {
   "cell_type": "code",
   "execution_count": 72,
   "id": "6a554af8-e883-4571-bcae-84efd467b96d",
   "metadata": {},
   "outputs": [
    {
     "name": "stdout",
     "output_type": "stream",
     "text": [
      "308.79688269616054 254.6346790948397\n"
     ]
    }
   ],
   "source": [
    "suma1=mean_price+std_price\n",
    "suma2=mean_price+100\n",
    "print(suma1,suma2)"
   ]
  },
  {
   "cell_type": "code",
   "execution_count": null,
   "id": "cc0f8cfb-9865-4598-af3f-002136b4ea6e",
   "metadata": {},
   "outputs": [],
   "source": []
  }
 ],
 "metadata": {
  "kernelspec": {
   "display_name": "Python 3 (ipykernel)",
   "language": "python",
   "name": "python3"
  },
  "language_info": {
   "codemirror_mode": {
    "name": "ipython",
    "version": 3
   },
   "file_extension": ".py",
   "mimetype": "text/x-python",
   "name": "python",
   "nbconvert_exporter": "python",
   "pygments_lexer": "ipython3",
   "version": "3.12.9"
  }
 },
 "nbformat": 4,
 "nbformat_minor": 5
}
